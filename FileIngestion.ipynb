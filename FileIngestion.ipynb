{
  "nbformat": 4,
  "nbformat_minor": 0,
  "metadata": {
    "colab": {
      "provenance": []
    },
    "kernelspec": {
      "name": "python3",
      "display_name": "Python 3"
    },
    "language_info": {
      "name": "python"
    }
  },
  "cells": [
    {
      "cell_type": "code",
      "execution_count": null,
      "metadata": {
        "id": "8GRc_qtxA05d"
      },
      "outputs": [],
      "source": [
        "!pip install pandas==2.1.4\n",
        "!pip install modin[ray]==0.31.0 ray==2.35.0\n",
        "!pip install vaex"
      ]
    },
    {
      "cell_type": "code",
      "source": [
        "import pandas as pd\n",
        "import dask.dataframe as dd\n",
        "import modin.pandas as mpd\n",
        "import ray\n",
        "import time\n",
        "import os\n",
        "import yaml\n",
        "import vaex"
      ],
      "metadata": {
        "id": "PeWiMWKMBD2q"
      },
      "execution_count": null,
      "outputs": []
    },
    {
      "cell_type": "code",
      "source": [
        "# Define file path\n",
        "file_path = '/content/Airline Dataset.csv'\n",
        "\n",
        "# Reading with Pandas\n",
        "start_time = time.time()\n",
        "df_pandas = pd.read_csv(file_path)\n",
        "pandas_time = time.time() - start_time\n",
        "\n",
        "# Reading with Dask\n",
        "start_time = time.time()\n",
        "df_dask = dd.read_csv(file_path)\n",
        "dask_time = time.time() - start_time\n",
        "\n",
        "# Reading with Modin (Ray backend)\n",
        "start_time = time.time()\n",
        "df_modin = mpd.read_csv(file_path)\n",
        "modin_time = time.time() - start_time\n",
        "\n",
        "# Display the times\n",
        "print(f\"Pandas read time: {pandas_time} seconds\")\n",
        "print(f\"Dask read time: {dask_time} seconds\")\n",
        "print(f\"Modin (Ray) read time: {modin_time} seconds\")"
      ],
      "metadata": {
        "id": "RsjHFlwiBEvJ"
      },
      "execution_count": null,
      "outputs": []
    },
    {
      "cell_type": "code",
      "source": [
        "def clean_column_names(df):\n",
        "    df.columns = df.columns.str.replace('[^A-Za-z0-9]+', '_')\n",
        "    df.columns = df.columns.str.strip()\n",
        "    return df\n",
        "\n",
        "# Apply to dataframes\n",
        "df_pandas = clean_column_names(df_pandas)\n",
        "df_dask = clean_column_names(df_dask)\n",
        "df_modin = clean_column_names(df_modin)"
      ],
      "metadata": {
        "id": "OwQDKeJCBIlk"
      },
      "execution_count": null,
      "outputs": []
    },
    {
      "cell_type": "code",
      "source": [
        "schema = {\n",
        "    'separator': ',',\n",
        "    'columns': list(df_pandas.columns)\n",
        "}\n",
        "\n",
        "# Write schema to YAML file\n",
        "with open('schema.yaml', 'w') as file:\n",
        "    yaml.dump(schema, file)"
      ],
      "metadata": {
        "id": "grAJKm4UBMgN"
      },
      "execution_count": null,
      "outputs": []
    },
    {
      "cell_type": "code",
      "source": [
        "# Load YAML schema\n",
        "with open('schema.yaml', 'r') as file:\n",
        "    schema_yaml = yaml.safe_load(file)\n",
        "\n",
        "# Check number of columns and names\n",
        "assert len(df_pandas.columns) == len(schema_yaml['columns']), \"Column count does not match!\"\n",
        "assert all(df_pandas.columns == schema_yaml['columns']), \"Column names do not match!\"\n"
      ],
      "metadata": {
        "id": "x2CLsfJSBQSr"
      },
      "execution_count": null,
      "outputs": []
    },
    {
      "cell_type": "code",
      "source": [
        "# Define output file path\n",
        "output_file_path = '/content/output_file.txt.gz'\n",
        "\n",
        "# Write to pipe-separated text file and compress\n",
        "df_pandas.to_csv(output_file_path, sep='|', index=False, compression='gzip')\n",
        "\n",
        "print(\"File written and compressed.\")"
      ],
      "metadata": {
        "id": "pPfNuRmzCTzM"
      },
      "execution_count": null,
      "outputs": []
    },
    {
      "cell_type": "code",
      "source": [
        "# Number of rows and columns\n",
        "num_rows, num_columns = df_pandas.shape\n",
        "\n",
        "# File size\n",
        "file_size = os.path.getsize(output_file_path) / (1024 * 1024)  # Size in MB\n",
        "\n",
        "print(f\"Total number of rows: {num_rows}\")\n",
        "print(f\"Total number of columns: {num_columns}\")\n",
        "print(f\"File size: {file_size:.2f} MB\")\n"
      ],
      "metadata": {
        "id": "2wwqGzNqCXxI"
      },
      "execution_count": null,
      "outputs": []
    }
  ]
}